{
  "cells": [
    {
      "cell_type": "markdown",
      "metadata": {
        "id": "view-in-github",
        "colab_type": "text"
      },
      "source": [
        "<a href=\"https://colab.research.google.com/github/Blane187/UVR5-NO-UI/blob/main/UVR5_NO_UI.ipynb\" target=\"_parent\"><img src=\"https://colab.research.google.com/assets/colab-badge.svg\" alt=\"Open In Colab\"/></a>"
      ]
    },
    {
      "cell_type": "markdown",
      "source": [
        "# **🎵 UVR5 NO UI 🎵**"
      ],
      "metadata": {
        "id": "_ju_tDe_EVzb"
      }
    },
    {
      "cell_type": "markdown",
      "source": [
        "Colab created by [Not Eddy (Spanish Mod)](http://discord.com/users/274566299349155851) in [AI HUB](https://discord.gg/aihub) server.\n",
        "\n",
        "<br>**This is a CLI type colab created based on the [beveradb's python-audio-separator](https://github.com/karaokenerds/python-audio-separator) and [jarredou's MVSEP-MDX23-Colab_v2](https://github.com/jarredou/MVSEP-MDX23-Colab_v2) repositories.<br>\n",
        "If you liked this colab you can star my repo on [GitHub](https://github.com/Eddycrack864/UVR5-NO-UI)**.<br>\n",
        "\n",
        "<br>You can donate to the original UVR5 project here:<br>\n",
        "[![\"Buy Me A Coffee\"](https://www.buymeacoffee.com/assets/img/custom_images/orange_img.png)](https://www.buymeacoffee.com/uvr5)"
      ],
      "metadata": {
        "id": "NTgrB7juAdWm"
      }
    },
    {
      "cell_type": "code",
      "execution_count": null,
      "metadata": {
        "id": "5J3-2r_qH0sO",
        "cellView": "form"
      },
      "outputs": [],
      "source": [
        "#@title # **Installation**\n",
        "#@markdown This takes around 3 - 5 minutes\n",
        "from google.colab import drive\n",
        "from IPython.display import clear_output\n",
        "import subprocess\n",
        "import codecs\n",
        "\n",
        "gitrepo = codecs.decode('uggcf://tvguho.pbz/Rqqlpenpx864/ZIFRC-ZQK23-Pbyno_i2.tvg','rot_13')\n",
        "dir = codecs.decode('/pbagrag/ZIFRC-ZQK23-Pbyno_i2','rot_13')\n",
        "\n",
        "print('[+] Installation please wait....')\n",
        "\n",
        "subprocess.run([\"pip\", \"install\", \"audio-separator[gpu]==0.16.2\"])\n",
        "\n",
        "!git clone $gitrepo --quiet\n",
        "\n",
        "%cd $dir\n",
        "\n",
        "subprocess.run([\"pip\", \"install\", \"-r\", \"requirements.txt\"])\n",
        "\n",
        "subprocess.run([\"pip\", \"install\", \"demucs\", \"&>\", \"/dev/null\"])\n",
        "\n",
        "subprocess.run([\"python\", \"-m\", \"pip\", \"install\", \"ort-nightly-gpu\", \"--index-url=https://aiinfra.pkgs.visualstudio.com/PublicPackages/_packaging/ort-cuda-12-nightly/pypi/simple/\"])\n",
        "\n",
        "\n",
        "mount_command = \"drive.mount('/content/drive')\"\n",
        "subprocess.run(mount_command)\n",
        "\n",
        "\n",
        "\n",
        "\n",
        "\n",
        "clear_output()\n",
        "print('[~] Installation done !')"
      ]
    },
    {
      "cell_type": "markdown",
      "source": [
        "# **Select Separation method:**"
      ],
      "metadata": {
        "id": "vpixGL8cnAlR"
      }
    },
    {
      "cell_type": "markdown",
      "source": [
        "### ***BS-Roformer***"
      ],
      "metadata": {
        "id": "l_AKG-VwmxhS"
      }
    },
    {
      "cell_type": "code",
      "source": [
        "#@markdown #**Separation! BS-Roformer Only**\n",
        "from pathlib import Path\n",
        "import glob\n",
        "\n",
        "#@markdown Input path for audio files:\n",
        "input_folder = \"/content/drive/MyDrive/Separar\" #@param {type:\"string\"}\n",
        "#@markdown Output path for audio files:\n",
        "output_folder = \"/content/drive/MyDrive/Vocales\" #@param {type:\"string\"}\n",
        "#@markdown Select the model:\n",
        "model = 'BS-Roformer-Viperx-1297' #@param [\"BS-Roformer-Viperx-1297\", \"BS-Roformer-Viperx-1296\"]\n",
        "#@markdown Select the output format:\n",
        "format = \"wav 32-bit FLOAT\" #@param [\"wav 16-bit PCM\", \"wav 32-bit FLOAT\", \"flac\"]\n",
        "weight = 10\n",
        "\n",
        "use_BSRoformer =  '--use_BSRoformer'\n",
        "use_InstVoc = '--use_InstVoc' #forced use\n",
        "vocals_only = '--vocals_only'\n",
        "\n",
        "dict1 = {\n",
        "    'BS-Roformer-Viperx-1297': 'ep_317_1297',\n",
        "    'BS-Roformer-Viperx-1296': 'ep_368_1296'\n",
        "}\n",
        "BSRoformer_model = dict1[model]\n",
        "\n",
        "dict2 = {\n",
        "    'wav 16-bit PCM': 'PCM_16',\n",
        "    'wav 32-bit FLOAT': 'FLOAT',\n",
        "    'flac': 'FLAC'\n",
        "}\n",
        "output_format = dict2[format]\n",
        "\n",
        "file_paths = sorted(glob.glob(input_folder + \"/*\"))[:]\n",
        "input_audio_args = ' '.join([f'\"{path}\"' for path in file_paths])\n",
        "Path(output_folder).mkdir(parents=True, exist_ok=True)\n",
        "!python inference.py \\\n",
        "    --input_audio {input_audio_args} \\\n",
        "    --large_gpu \\\n",
        "    --BSRoformer_model {BSRoformer_model} \\\n",
        "    --weight_BSRoformer {weight} \\\n",
        "    --output_format {output_format} \\\n",
        "    --output_folder \"{output_folder}\" \\\n",
        "    {vocals_only} \\\n",
        "    {use_InstVoc} \\\n",
        "    {use_BSRoformer}\n",
        "\n",
        "# jarredou's code"
      ],
      "metadata": {
        "id": "qXxCHvYom_-R",
        "cellView": "form"
      },
      "execution_count": null,
      "outputs": []
    },
    {
      "cell_type": "markdown",
      "source": [
        "### ***MDX23C***"
      ],
      "metadata": {
        "id": "isePyBSumtQT"
      }
    },
    {
      "cell_type": "code",
      "source": [
        "#@markdown #**Separation! MDX23C Only**\n",
        "import os\n",
        "import subprocess\n",
        "\n",
        "def uvr_cli(input_folder, output_folder, extensions, output_format, model, segment_size, overlap):\n",
        "    found_files = []\n",
        "\n",
        "    for audio_files in os.listdir(input_folder):\n",
        "        if audio_files.endswith(extensions):\n",
        "            found_files.append(audio_files)\n",
        "\n",
        "    total_files = len(found_files)\n",
        "\n",
        "    if total_files == 0:\n",
        "        print(\"No valid audio files found.\")\n",
        "    else:\n",
        "        print(f\"{total_files} audio files found\")\n",
        "\n",
        "        found_files.sort()\n",
        "\n",
        "        for audio_files in found_files:\n",
        "            file_path = os.path.join(input_folder, audio_files)\n",
        "            prompt = [\"audio-separator\", file_path, \"-m\", f\"{model}\", f\"--output_dir={output_folder}\", f\"--output_format={output_format}\", \"--normalization=0.9\", f\"--mdxc_segment_size={segment_size}\", f\"--mdxc_overlap={overlap}\"]\n",
        "            print(f\"Processing file: {audio_files}\")\n",
        "            subprocess.run(prompt)\n",
        "\n",
        "#@markdown Input path for audio files:\n",
        "input_folder = \"/content/drive/MyDrive/Separar\" #@param {type:\"string\"}\n",
        "#@markdown Output path for audio files:\n",
        "output_folder = \"/content/drive/MyDrive/Vocales\" #@param {type:\"string\"}\n",
        "#@markdown Select the model:\n",
        "model = \"MDX23C-8KFFT-InstVoc_HQ_2.ckpt\" #@param [\"MDX23C_D1581.ckpt\", \"MDX23C-8KFFT-InstVoc_HQ.ckpt\", \"MDX23C-8KFFT-InstVoc_HQ_2.ckpt\"]\n",
        "#@markdown Select the output format:\n",
        "output_format = \"wav\" #@param [\"wav\", \"flac\", \"mp3\"]\n",
        "#@markdown Larger consumes more resources, but may give better results.\n",
        "segment_size = 256 #@param {type:\"slider\", min:32, max:4000, step:32}\n",
        "#@markdown Amount of overlap between prediction windows.\n",
        "overlap = 8 #@param {type:\"slider\", min:2, max:50, step:1}\n",
        "extensions = (\".mp3\", \".wav\", \".flac\")\n",
        "\n",
        "uvr_cli(input_folder, output_folder, extensions, output_format, model, segment_size, overlap)"
      ],
      "metadata": {
        "id": "aZw_QKa8elc4",
        "cellView": "form"
      },
      "execution_count": null,
      "outputs": []
    },
    {
      "cell_type": "markdown",
      "source": [
        "### ***MDX-NET***"
      ],
      "metadata": {
        "id": "smcRgMINmeWS"
      }
    },
    {
      "cell_type": "code",
      "execution_count": null,
      "metadata": {
        "cellView": "form",
        "id": "Js49KWajKjuD"
      },
      "outputs": [],
      "source": [
        "#@markdown #**Separation! MDX-NET Only**\n",
        "import os\n",
        "import subprocess\n",
        "\n",
        "def uvr_cli(input_folder, output_folder, extensions, output_format, model, segment_size, overlap, denoise):\n",
        "    found_files = []\n",
        "\n",
        "    for audio_files in os.listdir(input_folder):\n",
        "        if audio_files.endswith(extensions):\n",
        "            found_files.append(audio_files)\n",
        "\n",
        "    total_files = len(found_files)\n",
        "\n",
        "    if total_files == 0:\n",
        "        print(\"No valid audio files found.\")\n",
        "    else:\n",
        "        print(f\"{total_files} audio files found\")\n",
        "\n",
        "        found_files.sort()\n",
        "\n",
        "        for audio_files in found_files:\n",
        "            file_path = os.path.join(input_folder, audio_files)\n",
        "            prompt = [\"audio-separator\", file_path, \"-m\", f\"{model}\", f\"--output_dir={output_folder}\", f\"--output_format={output_format}\", \"--normalization=0.9\", f\"--mdx_segment_size={segment_size}\", f\"--mdx_overlap={overlap}\"]\n",
        "            if denoise:\n",
        "                prompt.append(\"--mdx_enable_denoise\")\n",
        "            print(f\"Processing file: {audio_files}\")\n",
        "            subprocess.run(prompt)\n",
        "\n",
        "#@markdown Input path for audio files:\n",
        "input_folder = \"/content/drive/MyDrive/Separar\" #@param {type:\"string\"}\n",
        "#@markdown Output path for audio files:\n",
        "output_folder = \"/content/drive/MyDrive/Vocales\" #@param {type:\"string\"}\n",
        "#@markdown Select the model:\n",
        "model = \"UVR-MDX-NET-Inst_HQ_4.onnx\" #@param [\"UVR-MDX-NET-Inst_full_292.onnx\", \"UVR-MDX-NET_Inst_187_beta.onnx\", \"UVR-MDX-NET_Inst_82_beta.onnx\", \"UVR-MDX-NET_Inst_90_beta.onnx\", \"UVR-MDX-NET_Main_340.onnx\", \"UVR-MDX-NET_Main_390.onnx\", \"UVR-MDX-NET_Main_406.onnx\", \"UVR-MDX-NET_Main_427.onnx\", \"UVR-MDX-NET_Main_438.onnx\", \"UVR-MDX-NET-Inst_HQ_1.onnx\", \"UVR-MDX-NET-Inst_HQ_2.onnx\", \"UVR-MDX-NET-Inst_HQ_3.onnx\", \"UVR-MDX-NET-Inst_HQ_4.onnx\", \"UVR_MDXNET_Main.onnx\", \"UVR-MDX-NET-Inst_Main.onnx\", \"UVR_MDXNET_1_9703.onnx\", \"UVR_MDXNET_2_9682.onnx\", \"UVR_MDXNET_3_9662.onnx\", \"UVR-MDX-NET-Inst_1.onnx\", \"UVR-MDX-NET-Inst_2.onnx\", \"UVR-MDX-NET-Inst_3.onnx\", \"UVR_MDXNET_KARA.onnx\", \"UVR_MDXNET_KARA_2.onnx\", \"UVR_MDXNET_9482.onnx\", \"UVR-MDX-NET-Voc_FT.onnx\", \"Kim_Vocal_1.onnx\", \"Kim_Vocal_2.onnx\", \"Kim_Inst.onnx\", \"Reverb_HQ_By_FoxJoy.onnx\", \"UVR-MDX-NET_Crowd_HQ_1.onnx\", \"kuielab_a_vocals.onnx\", \"kuielab_a_other.onnx\", \"kuielab_a_bass.onnx\", \"kuielab_a_drums.onnx\", \"kuielab_b_vocals.onnx\", \"kuielab_b_other.onnx\", \"kuielab_b_bass.onnx\", \"kuielab_b_drums.onnx\"]\n",
        "#@markdown Select the output format:\n",
        "output_format = \"wav\" #@param [\"wav\", \"flac\", \"mp3\"]\n",
        "#@markdown Larger consumes more resources, but may give better results.\n",
        "segment_size = 256 #@param {type:\"slider\", min:32, max:4000, step:32}\n",
        "#@markdown Amount of overlap between prediction windows.\n",
        "overlap = \"0.25\" #@param [\"0.25\", \"0.5\", \"0.75\", \"0.99\"]\n",
        "#@markdown Enable denoising during separation.\n",
        "denoise = True #@param {type:\"boolean\"}\n",
        "extensions = (\".mp3\", \".wav\", \".flac\")\n",
        "\n",
        "uvr_cli(input_folder, output_folder, extensions, output_format, model, segment_size, overlap, denoise)"
      ]
    },
    {
      "cell_type": "markdown",
      "source": [
        "### ***VR ARCH***"
      ],
      "metadata": {
        "id": "QR6AfzxzmXuq"
      }
    },
    {
      "cell_type": "code",
      "source": [
        "#@markdown #**Separation! VR ARCH Only**\n",
        "import os\n",
        "import subprocess\n",
        "\n",
        "def uvr_cli(input_folder, output_folder, extensions, output_format, model, window_size, aggression, tta):\n",
        "    found_files = []\n",
        "\n",
        "    for audio_files in os.listdir(input_folder):\n",
        "        if audio_files.endswith(extensions):\n",
        "            found_files.append(audio_files)\n",
        "\n",
        "    total_files = len(found_files)\n",
        "\n",
        "    if total_files == 0:\n",
        "        print(\"No valid audio files found.\")\n",
        "    else:\n",
        "        print(f\"{total_files} audio files found\")\n",
        "\n",
        "        found_files.sort()\n",
        "\n",
        "        for audio_files in found_files:\n",
        "            file_path = os.path.join(input_folder, audio_files)\n",
        "            prompt = [\"audio-separator\", file_path, \"-m\", f\"{model}\", f\"--output_dir={output_folder}\", f\"--output_format={output_format}\", \"--normalization=0.9\", f\"--vr_window_size={window_size}\", f\"--vr_aggression={aggression}\"]\n",
        "            if tta:\n",
        "                prompt.append(\"--vr_enable_tta\")\n",
        "            print(f\"Processing file: {audio_files}\")\n",
        "            subprocess.run(prompt)\n",
        "\n",
        "#@markdown Input path for audio files:\n",
        "input_folder = \"/content/drive/MyDrive/Separar\" #@param {type:\"string\"}\n",
        "#@markdown Output path for audio files:\n",
        "output_folder = \"/content/drive/MyDrive/Vocales\" #@param {type:\"string\"}\n",
        "#@markdown Select the model:\n",
        "model = \"UVR-DeEcho-DeReverb.pth\" #@param [\"1_HP-UVR.pth\", \"2_HP-UVR.pth\", \"3_HP-Vocal-UVR.pth\", \"4_HP-Vocal-UVR.pth\", \"5_HP-Karaoke-UVR.pth\", \"6_HP-Karaoke-UVR.pth\", \"7_HP2-UVR.pth\", \"8_HP2-UVR.pth\", \"9_HP2-UVR.pth\", \"10_SP-UVR-2B-32000-1.pth\", \"11_SP-UVR-2B-32000-2.pth\", \"12_SP-UVR-3B-44100.pth\", \"13_SP-UVR-4B-44100-1.pth\", \"14_SP-UVR-4B-44100-2.pth\", \"15_SP-UVR-MID-44100-1.pth\", \"16_SP-UVR-MID-44100-2.pth\", \"17_HP-Wind_Inst-UVR.pth\", \"UVR-De-Echo-Aggressive.pth\", \"UVR-De-Echo-Normal.pth\", \"UVR-DeEcho-DeReverb.pth\", \"UVR-DeNoise-Lite.pth\", \"UVR-DeNoise.pth\", \"UVR-BVE-4B_SN-44100-1.pth\", \"MGM_HIGHEND_v4.pth\", \"MGM_LOWEND_A_v4.pth\", \"MGM_LOWEND_B_v4.pth\", \"MGM_MAIN_v4.pth\"]\n",
        "#@markdown Select the output format:\n",
        "output_format = \"wav\" #@param [\"wav\", \"flac\", \"mp3\"]\n",
        "#@markdown Lower window size yield a higher output quality, but will take longer to process.\n",
        "window_size = \"320\" #@param [\"320\", \"512\", \"1024\"]\n",
        "#@markdown Intensity of primary stem extraction.\n",
        "aggression = 5 #@param {type:\"slider\", min:0, max:100, step:1}\n",
        "#@markdown Enable Test-Time-Augmentation; slow but improves quality.\n",
        "tta = True #@param {type:\"boolean\"}\n",
        "extensions = (\".mp3\", \".wav\", \".flac\")\n",
        "\n",
        "uvr_cli(input_folder, output_folder, extensions, output_format, model, window_size, aggression, tta)"
      ],
      "metadata": {
        "cellView": "form",
        "id": "GM_VmCB3R7KX"
      },
      "execution_count": null,
      "outputs": []
    },
    {
      "cell_type": "markdown",
      "source": [
        "### ***demucs***"
      ],
      "metadata": {
        "id": "UwucJshBmNnE"
      }
    },
    {
      "cell_type": "code",
      "source": [
        "#@markdown #**Separation! Demucs Only**\n",
        "import os\n",
        "import subprocess\n",
        "\n",
        "def uvr_cli(input_folder, output_folder, extensions, output_format, model):\n",
        "    found_files = []\n",
        "\n",
        "    for audio_files in os.listdir(input_folder):\n",
        "        if audio_files.endswith(extensions):\n",
        "            found_files.append(audio_files)\n",
        "\n",
        "    total_files = len(found_files)\n",
        "\n",
        "    if total_files == 0:\n",
        "        print(\"No valid audio files found.\")\n",
        "    else:\n",
        "        print(f\"{total_files} audio files found\")\n",
        "\n",
        "        found_files.sort()\n",
        "\n",
        "        for audio_files in found_files:\n",
        "            file_path = os.path.join(input_folder, audio_files)\n",
        "            prompt = [\"audio-separator\", file_path, \"-m\", f\"{model}\", f\"--output_dir={output_folder}\", f\"--output_format={output_format}\", \"--normalization=0.9\"]\n",
        "            print(f\"Processing file: {audio_files}\")\n",
        "            subprocess.run(prompt)\n",
        "\n",
        "#@markdown Input path for audio files:\n",
        "input_folder = \"/content/drive/MyDrive/Separar\" #@param {type:\"string\"}\n",
        "#@markdown Output path for audio files:\n",
        "output_folder = \"/content/drive/MyDrive/Vocales\" #@param {type:\"string\"}\n",
        "#@markdown Select the model:\n",
        "model = \"htdemucs_ft.yaml\" #@param [\"htdemucs_ft.yaml\", \"htdemucs.yaml\", \"hdemucs_mmi.yaml\", \"htdemucs_6s.yaml\"]\n",
        "#@markdown Select the output format:\n",
        "output_format = \"wav\" #@param [\"wav\", \"flac\", \"mp3\"]\n",
        "extensions = (\".mp3\", \".wav\", \".flac\")\n",
        "\n",
        "uvr_cli(input_folder, output_folder, extensions, output_format, model)"
      ],
      "metadata": {
        "cellView": "form",
        "id": "Fx_yToyP6TZb"
      },
      "execution_count": null,
      "outputs": []
    }
  ],
  "metadata": {
    "colab": {
      "provenance": [],
      "private_outputs": true,
      "gpuType": "T4",
      "include_colab_link": true
    },
    "kernelspec": {
      "display_name": "Python 3",
      "name": "python3"
    },
    "language_info": {
      "name": "python"
    },
    "accelerator": "GPU"
  },
  "nbformat": 4,
  "nbformat_minor": 0
}